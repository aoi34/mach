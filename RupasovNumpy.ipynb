{
 "cells": [
  {
   "cell_type": "markdown",
   "id": "dfdca37a",
   "metadata": {},
   "source": [
    "1. Импортируйте пакет numpy под именем np"
   ]
  },
  {
   "cell_type": "code",
   "execution_count": 5,
   "id": "f7c20b85",
   "metadata": {},
   "outputs": [],
   "source": [
    "import numpy as np"
   ]
  },
  {
   "cell_type": "code",
   "execution_count": null,
   "id": "e18d71a2-91a8-4abd-8bc0-b6058b834d59",
   "metadata": {},
   "outputs": [],
   "source": []
  },
  {
   "cell_type": "markdown",
   "id": "1b0c7f2d",
   "metadata": {},
   "source": [
    "2. Распечатайте версию numpy"
   ]
  },
  {
   "cell_type": "code",
   "execution_count": 2,
   "id": "895d41c5",
   "metadata": {},
   "outputs": [
    {
     "name": "stdout",
     "output_type": "stream",
     "text": [
      "1.26.4\n"
     ]
    }
   ],
   "source": [
    "print(np.__version__)"
   ]
  },
  {
   "cell_type": "markdown",
   "id": "711ff100",
   "metadata": {},
   "source": [
    "3. Создайте вектор со значениями от 10 до 49 "
   ]
  },
  {
   "cell_type": "code",
   "execution_count": 6,
   "id": "c37e2757",
   "metadata": {},
   "outputs": [
    {
     "name": "stdout",
     "output_type": "stream",
     "text": [
      "[10 11 12 13 14 15 16 17 18 19 20 21 22 23 24 25 26 27 28 29 30 31 32 33\n",
      " 34 35 36 37 38 39 40 41 42 43 44 45 46 47 48 49]\n"
     ]
    }
   ],
   "source": []
  },
  {
   "cell_type": "code",
   "execution_count": 9,
   "id": "59cd4df8-8dbd-4feb-8929-b64da5df5a87",
   "metadata": {},
   "outputs": [
    {
     "data": {
      "text/plain": [
       "array([10, 11, 12, 13, 14, 15, 16, 17, 18, 19, 20, 21, 22, 23, 24, 25, 26,\n",
       "       27, 28, 29, 30, 31, 32, 33, 34, 35, 36, 37, 38, 39, 40, 41, 42, 43,\n",
       "       44, 45, 46, 47, 48, 49])"
      ]
     },
     "execution_count": 9,
     "metadata": {},
     "output_type": "execute_result"
    }
   ],
   "source": [
    "np.arange(10,50,1)\n"
   ]
  },
  {
   "cell_type": "markdown",
   "id": "c66fd371",
   "metadata": {},
   "source": [
    "4. Перевернуть вектор (первый элемент становится последним)"
   ]
  },
  {
   "cell_type": "code",
   "execution_count": 7,
   "id": "0884ebbd",
   "metadata": {},
   "outputs": [
    {
     "name": "stdout",
     "output_type": "stream",
     "text": [
      "[49 48 47 46 45 44 43 42 41 40 39 38 37 36 35 34 33 32 31 30 29 28 27 26\n",
      " 25 24 23 22 21 20 19 18 17 16 15 14 13 12 11 10]\n"
     ]
    }
   ],
   "source": []
  },
  {
   "cell_type": "code",
   "execution_count": 17,
   "id": "e4149e21-2e42-41ea-9f62-0261480bd982",
   "metadata": {},
   "outputs": [
    {
     "data": {
      "text/plain": [
       "array([49, 48, 47, 46, 45, 44, 43, 42, 41, 40, 39, 38, 37, 36, 35, 34, 33,\n",
       "       32, 31, 30, 29, 28, 27, 26, 25, 24, 23, 22, 21, 20, 19, 18, 17, 16,\n",
       "       15, 14, 13, 12, 11, 10])"
      ]
     },
     "execution_count": 17,
     "metadata": {},
     "output_type": "execute_result"
    }
   ],
   "source": [
    "np.arange(49,9,-1)"
   ]
  },
  {
   "cell_type": "markdown",
   "id": "a3a4cb15",
   "metadata": {},
   "source": [
    "5. Создайте массив 5x5 со случайными значениями и найдите среднее значение и медиану для каждой строки"
   ]
  },
  {
   "cell_type": "code",
   "execution_count": 12,
   "id": "60256c25",
   "metadata": {},
   "outputs": [
    {
     "name": "stdout",
     "output_type": "stream",
     "text": [
      "[[0.64358985 0.77621004 0.68329018 0.91774474 0.91328176]\n",
      " [0.21473351 0.63715337 0.92090262 0.7721383  0.26861897]\n",
      " [0.49428744 0.85288126 0.17350766 0.7782993  0.3882513 ]\n",
      " [0.8929048  0.81732248 0.71134781 0.1656408  0.91518786]\n",
      " [0.08368765 0.15504735 0.43085952 0.99051854 0.85670333]]\n"
     ]
    }
   ],
   "source": [
    "A = np.random.random((5,5))\n",
    "print(A)"
   ]
  },
  {
   "cell_type": "code",
   "execution_count": 33,
   "id": "0a5fbc04-d18d-407c-b71a-aa0572599316",
   "metadata": {},
   "outputs": [
    {
     "name": "stdout",
     "output_type": "stream",
     "text": [
      "[[0.38985916 0.5951262  0.99248142 0.03084631 0.94369687]\n",
      " [0.63142309 0.70459933 0.26489806 0.67556323 0.10505252]\n",
      " [0.24645447 0.4006178  0.58334208 0.99639634 0.68762215]\n",
      " [0.59610402 0.21855036 0.32930106 0.95578787 0.36213454]\n",
      " [0.73704751 0.82310802 0.67137555 0.49844538 0.14189729]]\n",
      "[0.52017765 0.54840034 0.56827964 0.63140783 0.44808067]\n"
     ]
    }
   ],
   "source": [
    "A = np.random.random((5,5))\n",
    "print(A)\n",
    "print(np.mean(A, axis=0))"
   ]
  },
  {
   "cell_type": "code",
   "execution_count": null,
   "id": "77866f8b",
   "metadata": {},
   "outputs": [],
   "source": []
  },
  {
   "cell_type": "markdown",
   "id": "ee02ae2c",
   "metadata": {},
   "source": [
    "6. Преобразуйте одномерный массив из 27 элементов целого типа в трехмерный (3x3x3)"
   ]
  },
  {
   "cell_type": "code",
   "execution_count": null,
   "id": "c3271c9f",
   "metadata": {},
   "outputs": [],
   "source": [
    "a = np.array([x for x in range(27)])"
   ]
  },
  {
   "cell_type": "code",
   "execution_count": 30,
   "id": "d3151c71",
   "metadata": {},
   "outputs": [
    {
     "name": "stdout",
     "output_type": "stream",
     "text": [
      "[[[ 0  1  2]\n",
      "  [ 3  4  5]\n",
      "  [ 6  7  8]]\n",
      "\n",
      " [[ 9 10 11]\n",
      "  [12 13 14]\n",
      "  [15 16 17]]\n",
      "\n",
      " [[18 19 20]\n",
      "  [21 22 23]\n",
      "  [24 25 26]]]\n"
     ]
    }
   ],
   "source": []
  },
  {
   "cell_type": "code",
   "execution_count": 50,
   "id": "53aa8345-f175-4c03-b85e-db46a6752399",
   "metadata": {},
   "outputs": [
    {
     "name": "stdout",
     "output_type": "stream",
     "text": [
      "[ 0  1  2  3  4  5  6  7  8  9 10 11 12 13 14 15 16 17 18 19 20 21 22 23\n",
      " 24 25 26]\n"
     ]
    },
    {
     "data": {
      "text/plain": [
       "array([[[ 0,  1,  2],\n",
       "        [ 3,  4,  5],\n",
       "        [ 6,  7,  8]],\n",
       "\n",
       "       [[ 9, 10, 11],\n",
       "        [12, 13, 14],\n",
       "        [15, 16, 17]],\n",
       "\n",
       "       [[18, 19, 20],\n",
       "        [21, 22, 23],\n",
       "        [24, 25, 26]]])"
      ]
     },
     "execution_count": 50,
     "metadata": {},
     "output_type": "execute_result"
    }
   ],
   "source": [
    "a = np.array([x for x in range(27)])\n",
    "print(a)\n",
    "a.reshape(3,3,3)"
   ]
  },
  {
   "cell_type": "markdown",
   "id": "e3bad8e7",
   "metadata": {},
   "source": [
    "7. Преобразуйте все элементы массива numpy из типа данных float в integer"
   ]
  },
  {
   "cell_type": "code",
   "execution_count": 40,
   "id": "29e474ac",
   "metadata": {},
   "outputs": [],
   "source": [
    "a = np.array([[3.5, 1.9, 8.45], [4.7, 7.9, 1.9]])"
   ]
  },
  {
   "cell_type": "code",
   "execution_count": 41,
   "id": "be7c498a",
   "metadata": {},
   "outputs": [
    {
     "name": "stdout",
     "output_type": "stream",
     "text": [
      "[[3 1 8]\n",
      " [4 7 1]]\n"
     ]
    }
   ],
   "source": []
  },
  {
   "cell_type": "code",
   "execution_count": 58,
   "id": "2ca30ead-9af2-4b23-97cd-03c8628fd0e9",
   "metadata": {},
   "outputs": [
    {
     "name": "stdout",
     "output_type": "stream",
     "text": [
      "[[3.5  1.9  8.45]\n",
      " [4.7  7.9  1.9 ]]\n"
     ]
    },
    {
     "data": {
      "text/plain": [
       "array([[3, 1, 8],\n",
       "       [4, 7, 1]])"
      ]
     },
     "execution_count": 58,
     "metadata": {},
     "output_type": "execute_result"
    }
   ],
   "source": [
    "a = np.array([[3.5, 1.9, 8.45], [4.7, 7.9, 1.9]])\n",
    "print(a)\n",
    "a.astype(int)"
   ]
  },
  {
   "cell_type": "markdown",
   "id": "b8b96818",
   "metadata": {},
   "source": [
    "8. Преобразуйте двоичный массив numpy [[1, 0, 0], [1, 1, 1],  [0, 0, 1]] (содержащий только 0 и 1) в логический массив numpy"
   ]
  },
  {
   "cell_type": "code",
   "execution_count": 63,
   "id": "1ba9b37c",
   "metadata": {},
   "outputs": [
    {
     "name": "stdout",
     "output_type": "stream",
     "text": [
      "[[1 0 0]\n",
      " [1 1 1]\n",
      " [0 0 1]]\n"
     ]
    },
    {
     "data": {
      "text/plain": [
       "array([[ True, False, False],\n",
       "       [ True,  True,  True],\n",
       "       [False, False,  True]])"
      ]
     },
     "execution_count": 63,
     "metadata": {},
     "output_type": "execute_result"
    }
   ],
   "source": [
    "a = np.array([[1, 0, 0], [1, 1, 1],  [0, 0, 1]])\n",
    "print(a)\n",
    "a.astype(bool)"
   ]
  },
  {
   "cell_type": "code",
   "execution_count": null,
   "id": "fc0f410e",
   "metadata": {},
   "outputs": [],
   "source": []
  },
  {
   "cell_type": "markdown",
   "id": "2e29bca1",
   "metadata": {},
   "source": [
    "9. Расположите 2 массива numpy горизонтально (hstack), т.е. 2 массива, имеющих одинаковое 1-е измерение (количество строк в 2D-массивах)"
   ]
  },
  {
   "cell_type": "code",
   "execution_count": 38,
   "id": "85022b72",
   "metadata": {},
   "outputs": [],
   "source": [
    "a1 = np.array([[1,2,3], [4,5,6]])\n",
    "a2 = np.array([[7,8,9], [10,11,12]])"
   ]
  },
  {
   "cell_type": "code",
   "execution_count": 39,
   "id": "59e0e588",
   "metadata": {},
   "outputs": [
    {
     "name": "stdout",
     "output_type": "stream",
     "text": [
      "[[ 1  2  3  7  8  9]\n",
      " [ 4  5  6 10 11 12]]\n"
     ]
    }
   ],
   "source": []
  },
  {
   "cell_type": "code",
   "execution_count": 67,
   "id": "677c5bfe-aaea-463f-bc2f-86773d2cfe83",
   "metadata": {},
   "outputs": [
    {
     "data": {
      "text/plain": [
       "array([[ 1,  2,  3,  7,  8,  9],\n",
       "       [ 4,  5,  6, 10, 11, 12]])"
      ]
     },
     "execution_count": 67,
     "metadata": {},
     "output_type": "execute_result"
    }
   ],
   "source": [
    "a1 = np.array([[1,2,3], [4,5,6]])\n",
    "a2 = np.array([[7,8,9], [10,11,12]])\n",
    "np.hstack((a1,a2))"
   ]
  },
  {
   "cell_type": "markdown",
   "id": "94718a01",
   "metadata": {},
   "source": [
    "10. Расположите 2 массива numpy вертикально (vstack), т.е. 2 массива, имеющие одинаковое последнее измерение (количество столбцов в 2D-массивах)"
   ]
  },
  {
   "cell_type": "code",
   "execution_count": 42,
   "id": "da19bfd1",
   "metadata": {},
   "outputs": [],
   "source": [
    "a1 = np.array([[1,2],\n",
    " [3,4],\n",
    " [5,6]])\n",
    "\n",
    "a2 = np.array([[7,8],\n",
    " [9,10],\n",
    " [10,11]])"
   ]
  },
  {
   "cell_type": "code",
   "execution_count": 71,
   "id": "a7215a42",
   "metadata": {},
   "outputs": [
    {
     "data": {
      "text/plain": [
       "array([[ 1,  2],\n",
       "       [ 3,  4],\n",
       "       [ 5,  6],\n",
       "       [ 7,  8],\n",
       "       [ 9, 10],\n",
       "       [10, 11]])"
      ]
     },
     "execution_count": 71,
     "metadata": {},
     "output_type": "execute_result"
    }
   ],
   "source": [
    "a1 = np.array([[1,2],\n",
    " [3,4],\n",
    " [5,6]])\n",
    "\n",
    "a2 = np.array([[7,8],\n",
    " [9,10],\n",
    " [10,11]])\n",
    "np.vstack((a1,a2))"
   ]
  },
  {
   "cell_type": "markdown",
   "id": "2da0ed17",
   "metadata": {},
   "source": [
    "11. Из 2 массивов numpy извлеките индексы, в которых совпадают элементы (np.where)"
   ]
  },
  {
   "cell_type": "code",
   "execution_count": 44,
   "id": "9067ab95",
   "metadata": {},
   "outputs": [],
   "source": [
    "a = np.array([1,2,3,4,5])\n",
    "b = np.array([1,3,2,4,5])"
   ]
  },
  {
   "cell_type": "code",
   "execution_count": 45,
   "id": "db588189",
   "metadata": {},
   "outputs": [
    {
     "name": "stdout",
     "output_type": "stream",
     "text": [
      "(array([0, 3, 4], dtype=int64),)\n"
     ]
    }
   ],
   "source": []
  },
  {
   "cell_type": "code",
   "execution_count": 75,
   "id": "c0e44549-fc6b-4032-ac0f-9cb3cae99f33",
   "metadata": {},
   "outputs": [
    {
     "data": {
      "text/plain": [
       "(array([0, 3, 4], dtype=int64),)"
      ]
     },
     "execution_count": 75,
     "metadata": {},
     "output_type": "execute_result"
    }
   ],
   "source": [
    "a = np.array([1,2,3,4,5])\n",
    "b = np.array([1,3,2,4,5])\n",
    "np.where(a == b)"
   ]
  },
  {
   "cell_type": "markdown",
   "id": "fe3b0a62",
   "metadata": {},
   "source": [
    "12. Выведите результат умножения 2 матриц (в виде массива numpy)"
   ]
  },
  {
   "cell_type": "code",
   "execution_count": 54,
   "id": "2f7ec1fc",
   "metadata": {},
   "outputs": [],
   "source": [
    "a = np.array([[1,2,3], \n",
    " [4,5,6], \n",
    " [7,8,9]])\n",
    "\n",
    "b = np.array([[2,3,4], \n",
    " [5,6,7], \n",
    " [8,9,10]])"
   ]
  },
  {
   "cell_type": "code",
   "execution_count": 55,
   "id": "70a81615",
   "metadata": {},
   "outputs": [
    {
     "name": "stdout",
     "output_type": "stream",
     "text": [
      "[[ 36  42  48]\n",
      " [ 81  96 111]\n",
      " [126 150 174]]\n"
     ]
    }
   ],
   "source": []
  },
  {
   "cell_type": "code",
   "execution_count": 85,
   "id": "bac9981e-607a-4cf2-a682-f2c94d67c867",
   "metadata": {},
   "outputs": [
    {
     "name": "stdout",
     "output_type": "stream",
     "text": [
      "[[ 36  42  48]\n",
      " [ 81  96 111]\n",
      " [126 150 174]]\n"
     ]
    }
   ],
   "source": [
    "a = np.array([[1,2,3], \n",
    " [4,5,6], \n",
    " [7,8,9]])\n",
    "\n",
    "b = np.array([[2,3,4], \n",
    " [5,6,7], \n",
    " [8,9,10]])\n",
    "print(np.dot(a,b))"
   ]
  },
  {
   "cell_type": "code",
   "execution_count": null,
   "id": "c810cd60",
   "metadata": {},
   "outputs": [],
   "source": []
  },
  {
   "cell_type": "markdown",
   "id": "ea2f28fe",
   "metadata": {},
   "source": [
    "13. Выведите транспонированную матрицу"
   ]
  },
  {
   "cell_type": "code",
   "execution_count": 59,
   "id": "998be8ca",
   "metadata": {},
   "outputs": [],
   "source": [
    "a = np.array([[1,2,3], \n",
    " [4,5,6], \n",
    " [7,8,9]])"
   ]
  },
  {
   "cell_type": "code",
   "execution_count": 60,
   "id": "b655308c",
   "metadata": {},
   "outputs": [
    {
     "name": "stdout",
     "output_type": "stream",
     "text": [
      "[[1 4 7]\n",
      " [2 5 8]\n",
      " [3 6 9]]\n"
     ]
    }
   ],
   "source": []
  },
  {
   "cell_type": "code",
   "execution_count": 93,
   "id": "b4ff9292-e496-492b-951e-b278600ddea9",
   "metadata": {},
   "outputs": [
    {
     "name": "stdout",
     "output_type": "stream",
     "text": [
      "[[1 4 7]\n",
      " [2 5 8]\n",
      " [3 6 9]]\n"
     ]
    }
   ],
   "source": [
    "a = np.array([[1,2,3], \n",
    " [4,5,6], \n",
    " [7,8,9]])\n",
    "print(a.T)\n"
   ]
  },
  {
   "cell_type": "markdown",
   "id": "626917af",
   "metadata": {},
   "source": [
    "14. Вычислите синус массива углов (в радианах) с помощью NumPy"
   ]
  },
  {
   "cell_type": "code",
   "execution_count": 65,
   "id": "23865e63",
   "metadata": {},
   "outputs": [],
   "source": [
    "angles = np.array([3.14, 3.14/2, 6.28])"
   ]
  },
  {
   "cell_type": "code",
   "execution_count": 67,
   "id": "be13fc0e",
   "metadata": {},
   "outputs": [
    {
     "name": "stdout",
     "output_type": "stream",
     "text": [
      "[ 0.00159265  0.99999968 -0.0031853 ]\n"
     ]
    }
   ],
   "source": []
  },
  {
   "cell_type": "code",
   "execution_count": 99,
   "id": "2cffa2c5-3fc2-439e-b4ad-86b130a897b9",
   "metadata": {},
   "outputs": [
    {
     "name": "stdout",
     "output_type": "stream",
     "text": [
      "[3.14 1.57 6.28]\n",
      "[ 0.00159265  0.99999968 -0.0031853 ]\n"
     ]
    }
   ],
   "source": [
    "angles = np.array([3.14, 3.14/2, 6.28])\n",
    "print(angles)\n",
    "print(np.sin(angles))\n"
   ]
  },
  {
   "cell_type": "markdown",
   "id": "04302674",
   "metadata": {},
   "source": [
    "15. Отсортировать вектор"
   ]
  },
  {
   "cell_type": "code",
   "execution_count": 68,
   "id": "7cd71a15",
   "metadata": {},
   "outputs": [
    {
     "name": "stdout",
     "output_type": "stream",
     "text": [
      "[0.30821184 0.13178341 0.88810901 0.51581108 0.87313982 0.79408365\n",
      " 0.26204075 0.14962622 0.45199466 0.34446024]\n"
     ]
    }
   ],
   "source": [
    "v = np.random.random(size=[10])\n",
    "print(v)"
   ]
  },
  {
   "cell_type": "code",
   "execution_count": 112,
   "id": "46dc5330",
   "metadata": {},
   "outputs": [
    {
     "name": "stdout",
     "output_type": "stream",
     "text": [
      "[0.03322694 0.66218512 0.13940532 0.78188285 0.00937401 0.81869186\n",
      " 0.6934378  0.85322194 0.59091239 0.25555741]\n",
      "[0.00937401 0.03322694 0.13940532 0.25555741 0.59091239 0.66218512\n",
      " 0.6934378  0.78188285 0.81869186 0.85322194]\n"
     ]
    }
   ],
   "source": [
    "v = np.random.random(size=[10])\n",
    "print(v)\n",
    "print(np.sort(v,axis=-1))"
   ]
  },
  {
   "cell_type": "markdown",
   "id": "dbbf1bf9",
   "metadata": {},
   "source": [
    "16. Проверить, одинаковы ли два NumPy массива"
   ]
  },
  {
   "cell_type": "code",
   "execution_count": 71,
   "id": "b65dd305",
   "metadata": {},
   "outputs": [],
   "source": [
    "a = np.array([1,2,3,4,5])\n",
    "b = np.array([1,2,3,4,5])"
   ]
  },
  {
   "cell_type": "code",
   "execution_count": 120,
   "id": "6e01dca9",
   "metadata": {},
   "outputs": [
    {
     "data": {
      "text/plain": [
       "True"
      ]
     },
     "execution_count": 120,
     "metadata": {},
     "output_type": "execute_result"
    }
   ],
   "source": [
    "a = np.array([1,2,3,4,5])\n",
    "b = np.array([1,2,3,4,5])\n",
    "np.all(a==b)"
   ]
  },
  {
   "cell_type": "markdown",
   "id": "9255bcd2",
   "metadata": {},
   "source": [
    "17. В одномерном массиве заменить максимальный элемент на ноль"
   ]
  },
  {
   "cell_type": "code",
   "execution_count": 73,
   "id": "ba7973d3",
   "metadata": {},
   "outputs": [],
   "source": [
    "Z = np.random.random(10)"
   ]
  },
  {
   "cell_type": "code",
   "execution_count": 74,
   "id": "1a912d24",
   "metadata": {},
   "outputs": [
    {
     "data": {
      "text/plain": [
       "array([0.16782157, 0.13655578, 0.59454878, 0.02957322, 0.81242629,\n",
       "       0.71645444, 0.48757387, 0.05812814, 0.21499663, 0.24011352])"
      ]
     },
     "execution_count": 74,
     "metadata": {},
     "output_type": "execute_result"
    }
   ],
   "source": []
  },
  {
   "cell_type": "code",
   "execution_count": 155,
   "id": "ec321b6c",
   "metadata": {},
   "outputs": [
    {
     "name": "stdout",
     "output_type": "stream",
     "text": [
      "[0.36757713 0.77473398 0.86013431 0.83463965 0.65634724 0.81268221\n",
      " 0.57757947 0.         0.95139077 0.79678402]\n"
     ]
    }
   ],
   "source": [
    "Z = np.random.random(10)\n",
    "M = np.argmax(Z)\n",
    "Z[M]= 0\n",
    "print(Z)"
   ]
  },
  {
   "cell_type": "markdown",
   "id": "8d5f7cb8",
   "metadata": {},
   "source": [
    "18. Замените все нечетные числа одномерного массива на -1."
   ]
  },
  {
   "cell_type": "code",
   "execution_count": 76,
   "id": "d299d6b2",
   "metadata": {},
   "outputs": [],
   "source": [
    "arr = np.array([0, 1, 2, 3, 4, 5, 6, 7, 8, 9])"
   ]
  },
  {
   "cell_type": "code",
   "execution_count": 227,
   "id": "2fab7f7e",
   "metadata": {},
   "outputs": [
    {
     "data": {
      "text/plain": [
       "array([ 0, -1,  2, -1,  4, -1,  6, -1,  8, -1])"
      ]
     },
     "execution_count": 227,
     "metadata": {},
     "output_type": "execute_result"
    }
   ],
   "source": [
    "arr = np.array([0, 1, 2, 3, 4, 5, 6, 7, 8, 9])\n",
    "arr\n",
    "arr = np.where(arr % 2 != 0 ,-1 ,arr)\n",
    "arr\n",
    "\n"
   ]
  },
  {
   "cell_type": "markdown",
   "id": "adb25062",
   "metadata": {},
   "source": [
    "19. Замените все элементы в массиве NumPy больше 30 или меньше 5 новым значением 10 "
   ]
  },
  {
   "cell_type": "code",
   "execution_count": 174,
   "id": "4738135c",
   "metadata": {},
   "outputs": [],
   "source": [
    "arr = np.array([0, 1, 20, 3, 4, 5, 6, -7, 8, 90])"
   ]
  },
  {
   "cell_type": "code",
   "execution_count": 249,
   "id": "4f364c2c",
   "metadata": {},
   "outputs": [
    {
     "data": {
      "text/plain": [
       "array([10, 10, 20, 10, 10,  5,  6, 10,  8, 10])"
      ]
     },
     "execution_count": 249,
     "metadata": {},
     "output_type": "execute_result"
    }
   ],
   "source": [
    "arr = np.array([0, 1, 20, 3, 4, 5, 6, -7, 8, 90])\n",
    "arr = np.where(arr > 30, 10, arr)\n",
    "arr = np.where(arr < 5, 10, arr)\n",
    "arr"
   ]
  },
  {
   "cell_type": "markdown",
   "id": "aacdf990",
   "metadata": {},
   "source": [
    "20. Отсортируйте двумерный массив по столбцам"
   ]
  },
  {
   "cell_type": "code",
   "execution_count": 93,
   "id": "cc0f95e5",
   "metadata": {},
   "outputs": [],
   "source": [
    "a = np.array([[11,5,3], \n",
    " [4,15,6], \n",
    " [7,8,19]])"
   ]
  },
  {
   "cell_type": "code",
   "execution_count": 95,
   "id": "eb55870e",
   "metadata": {},
   "outputs": [
    {
     "data": {
      "text/plain": [
       "array([[ 4,  5,  3],\n",
       "       [ 7,  8,  6],\n",
       "       [11, 15, 19]])"
      ]
     },
     "execution_count": 95,
     "metadata": {},
     "output_type": "execute_result"
    }
   ],
   "source": []
  },
  {
   "cell_type": "code",
   "execution_count": 9,
   "id": "65688ffb",
   "metadata": {},
   "outputs": [],
   "source": [
    "a = np.array([[11,5,3], \n",
    " [4,15,6], \n",
    " [7,8,19]])"
   ]
  },
  {
   "cell_type": "code",
   "execution_count": 11,
   "id": "7a742b43-699f-422b-aca3-995ec4dd8b70",
   "metadata": {},
   "outputs": [
    {
     "name": "stdout",
     "output_type": "stream",
     "text": [
      "[[ 4  5  3]\n",
      " [ 7  8  6]\n",
      " [11 15 19]]\n"
     ]
    }
   ],
   "source": [
    "da = np.sort(a,axis = 0)\n",
    "print(da)"
   ]
  },
  {
   "cell_type": "code",
   "execution_count": null,
   "id": "5ac4bc9f-d4a8-4229-897d-b05df4e3a0db",
   "metadata": {},
   "outputs": [],
   "source": []
  }
 ],
 "metadata": {
  "kernelspec": {
   "display_name": "Python 3 (ipykernel)",
   "language": "python",
   "name": "python3"
  },
  "language_info": {
   "codemirror_mode": {
    "name": "ipython",
    "version": 3
   },
   "file_extension": ".py",
   "mimetype": "text/x-python",
   "name": "python",
   "nbconvert_exporter": "python",
   "pygments_lexer": "ipython3",
   "version": "3.12.4"
  }
 },
 "nbformat": 4,
 "nbformat_minor": 5
}
